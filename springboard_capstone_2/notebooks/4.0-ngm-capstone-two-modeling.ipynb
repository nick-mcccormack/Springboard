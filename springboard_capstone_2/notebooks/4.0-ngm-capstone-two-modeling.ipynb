{
 "cells": [
  {
   "cell_type": "markdown",
   "id": "55c9e0ef",
   "metadata": {},
   "source": [
    "## Imports"
   ]
  },
  {
   "cell_type": "code",
   "execution_count": 2,
   "id": "d3e1fb29",
   "metadata": {},
   "outputs": [],
   "source": [
    "import pandas as pd\n",
    "import numpy as np\n",
    "from sklearn.model_selection import train_test_split, cross_validate, GridSearchCV, RandomizedSearchCV\n",
    "from sklearn.pipeline import make_pipeline\n",
    "from sklearn.impute import SimpleImputer\n",
    "from sklearn.preprocessing import StandardScaler, MinMaxScaler\n",
    "from sklearn.linear_model import LogisticRegression\n",
    "from sklearn.ensemble import AdaBoostClassifier, RandomForestClassifier\n",
    "from sklearn.tree import DecisionTreeClassifier\n",
    "from sklearn.svm import SVC\n",
    "from sklearn.metrics import f1_score\n",
    "from sklearn import __version__ as sklearn_version\n",
    "import datetime\n",
    "import pickle\n",
    "import warnings"
   ]
  },
  {
   "cell_type": "markdown",
   "id": "25d9a7aa",
   "metadata": {},
   "source": [
    "## Read in csv files"
   ]
  },
  {
   "cell_type": "code",
   "execution_count": 3,
   "id": "40d74a94",
   "metadata": {},
   "outputs": [],
   "source": [
    "all_hd = pd.read_csv('../data/interim/heart_disease_data_all_pt2.csv').drop('Unnamed: 0', axis=1)\n",
    "cleveland_hd = pd.read_csv('../data/interim/heart_disease_data_cleveland_pt2.csv').drop('Unnamed: 0', axis=1)"
   ]
  },
  {
   "cell_type": "markdown",
   "id": "c7b4dd0c",
   "metadata": {},
   "source": [
    "## View data"
   ]
  },
  {
   "cell_type": "code",
   "execution_count": 4,
   "id": "c32ce6f9",
   "metadata": {},
   "outputs": [
    {
     "data": {
      "text/html": [
       "<div>\n",
       "<style scoped>\n",
       "    .dataframe tbody tr th:only-of-type {\n",
       "        vertical-align: middle;\n",
       "    }\n",
       "\n",
       "    .dataframe tbody tr th {\n",
       "        vertical-align: top;\n",
       "    }\n",
       "\n",
       "    .dataframe thead th {\n",
       "        text-align: right;\n",
       "    }\n",
       "</style>\n",
       "<table border=\"1\" class=\"dataframe\">\n",
       "  <thead>\n",
       "    <tr style=\"text-align: right;\">\n",
       "      <th></th>\n",
       "      <th>id</th>\n",
       "      <th>age</th>\n",
       "      <th>trestbps</th>\n",
       "      <th>chol</th>\n",
       "      <th>thalch</th>\n",
       "      <th>oldpeak</th>\n",
       "      <th>num</th>\n",
       "      <th>Male</th>\n",
       "      <th>chest_pain</th>\n",
       "      <th>high_fbs</th>\n",
       "      <th>abnormal_restecg</th>\n",
       "      <th>exercise_induced_angina</th>\n",
       "    </tr>\n",
       "  </thead>\n",
       "  <tbody>\n",
       "    <tr>\n",
       "      <th>0</th>\n",
       "      <td>1</td>\n",
       "      <td>63</td>\n",
       "      <td>145.0</td>\n",
       "      <td>233.0</td>\n",
       "      <td>150.0</td>\n",
       "      <td>2.3</td>\n",
       "      <td>0</td>\n",
       "      <td>1</td>\n",
       "      <td>1</td>\n",
       "      <td>1</td>\n",
       "      <td>1</td>\n",
       "      <td>0</td>\n",
       "    </tr>\n",
       "    <tr>\n",
       "      <th>1</th>\n",
       "      <td>2</td>\n",
       "      <td>67</td>\n",
       "      <td>160.0</td>\n",
       "      <td>286.0</td>\n",
       "      <td>108.0</td>\n",
       "      <td>1.5</td>\n",
       "      <td>1</td>\n",
       "      <td>1</td>\n",
       "      <td>0</td>\n",
       "      <td>0</td>\n",
       "      <td>1</td>\n",
       "      <td>1</td>\n",
       "    </tr>\n",
       "    <tr>\n",
       "      <th>2</th>\n",
       "      <td>3</td>\n",
       "      <td>67</td>\n",
       "      <td>120.0</td>\n",
       "      <td>229.0</td>\n",
       "      <td>129.0</td>\n",
       "      <td>2.6</td>\n",
       "      <td>1</td>\n",
       "      <td>1</td>\n",
       "      <td>0</td>\n",
       "      <td>0</td>\n",
       "      <td>1</td>\n",
       "      <td>1</td>\n",
       "    </tr>\n",
       "    <tr>\n",
       "      <th>3</th>\n",
       "      <td>4</td>\n",
       "      <td>37</td>\n",
       "      <td>130.0</td>\n",
       "      <td>250.0</td>\n",
       "      <td>187.0</td>\n",
       "      <td>3.5</td>\n",
       "      <td>0</td>\n",
       "      <td>1</td>\n",
       "      <td>1</td>\n",
       "      <td>0</td>\n",
       "      <td>0</td>\n",
       "      <td>0</td>\n",
       "    </tr>\n",
       "    <tr>\n",
       "      <th>4</th>\n",
       "      <td>5</td>\n",
       "      <td>41</td>\n",
       "      <td>130.0</td>\n",
       "      <td>204.0</td>\n",
       "      <td>172.0</td>\n",
       "      <td>1.4</td>\n",
       "      <td>0</td>\n",
       "      <td>0</td>\n",
       "      <td>1</td>\n",
       "      <td>0</td>\n",
       "      <td>1</td>\n",
       "      <td>0</td>\n",
       "    </tr>\n",
       "  </tbody>\n",
       "</table>\n",
       "</div>"
      ],
      "text/plain": [
       "   id  age  trestbps   chol  thalch  oldpeak  num  Male  chest_pain  high_fbs  \\\n",
       "0   1   63     145.0  233.0   150.0      2.3    0     1           1         1   \n",
       "1   2   67     160.0  286.0   108.0      1.5    1     1           0         0   \n",
       "2   3   67     120.0  229.0   129.0      2.6    1     1           0         0   \n",
       "3   4   37     130.0  250.0   187.0      3.5    0     1           1         0   \n",
       "4   5   41     130.0  204.0   172.0      1.4    0     0           1         0   \n",
       "\n",
       "   abnormal_restecg  exercise_induced_angina  \n",
       "0                 1                        0  \n",
       "1                 1                        1  \n",
       "2                 1                        1  \n",
       "3                 0                        0  \n",
       "4                 1                        0  "
      ]
     },
     "execution_count": 4,
     "metadata": {},
     "output_type": "execute_result"
    }
   ],
   "source": [
    "all_hd.head()"
   ]
  },
  {
   "cell_type": "code",
   "execution_count": 5,
   "id": "e05ca07b",
   "metadata": {},
   "outputs": [
    {
     "data": {
      "text/html": [
       "<div>\n",
       "<style scoped>\n",
       "    .dataframe tbody tr th:only-of-type {\n",
       "        vertical-align: middle;\n",
       "    }\n",
       "\n",
       "    .dataframe tbody tr th {\n",
       "        vertical-align: top;\n",
       "    }\n",
       "\n",
       "    .dataframe thead th {\n",
       "        text-align: right;\n",
       "    }\n",
       "</style>\n",
       "<table border=\"1\" class=\"dataframe\">\n",
       "  <thead>\n",
       "    <tr style=\"text-align: right;\">\n",
       "      <th></th>\n",
       "      <th>id</th>\n",
       "      <th>age</th>\n",
       "      <th>trestbps</th>\n",
       "      <th>chol</th>\n",
       "      <th>thalch</th>\n",
       "      <th>oldpeak</th>\n",
       "      <th>ca</th>\n",
       "      <th>num</th>\n",
       "      <th>Male</th>\n",
       "      <th>chest_pain</th>\n",
       "      <th>high_fbs</th>\n",
       "      <th>abnormal_restecg</th>\n",
       "      <th>exercise_induced_angina</th>\n",
       "      <th>upsloping</th>\n",
       "      <th>defect</th>\n",
       "    </tr>\n",
       "  </thead>\n",
       "  <tbody>\n",
       "    <tr>\n",
       "      <th>0</th>\n",
       "      <td>1</td>\n",
       "      <td>63</td>\n",
       "      <td>145.0</td>\n",
       "      <td>233.0</td>\n",
       "      <td>150.0</td>\n",
       "      <td>2.3</td>\n",
       "      <td>0.0</td>\n",
       "      <td>0</td>\n",
       "      <td>1</td>\n",
       "      <td>1</td>\n",
       "      <td>1</td>\n",
       "      <td>1</td>\n",
       "      <td>0</td>\n",
       "      <td>0</td>\n",
       "      <td>1</td>\n",
       "    </tr>\n",
       "    <tr>\n",
       "      <th>1</th>\n",
       "      <td>2</td>\n",
       "      <td>67</td>\n",
       "      <td>160.0</td>\n",
       "      <td>286.0</td>\n",
       "      <td>108.0</td>\n",
       "      <td>1.5</td>\n",
       "      <td>3.0</td>\n",
       "      <td>1</td>\n",
       "      <td>1</td>\n",
       "      <td>0</td>\n",
       "      <td>0</td>\n",
       "      <td>1</td>\n",
       "      <td>1</td>\n",
       "      <td>0</td>\n",
       "      <td>0</td>\n",
       "    </tr>\n",
       "    <tr>\n",
       "      <th>2</th>\n",
       "      <td>3</td>\n",
       "      <td>67</td>\n",
       "      <td>120.0</td>\n",
       "      <td>229.0</td>\n",
       "      <td>129.0</td>\n",
       "      <td>2.6</td>\n",
       "      <td>2.0</td>\n",
       "      <td>1</td>\n",
       "      <td>1</td>\n",
       "      <td>0</td>\n",
       "      <td>0</td>\n",
       "      <td>1</td>\n",
       "      <td>1</td>\n",
       "      <td>0</td>\n",
       "      <td>1</td>\n",
       "    </tr>\n",
       "    <tr>\n",
       "      <th>3</th>\n",
       "      <td>4</td>\n",
       "      <td>37</td>\n",
       "      <td>130.0</td>\n",
       "      <td>250.0</td>\n",
       "      <td>187.0</td>\n",
       "      <td>3.5</td>\n",
       "      <td>0.0</td>\n",
       "      <td>0</td>\n",
       "      <td>1</td>\n",
       "      <td>1</td>\n",
       "      <td>0</td>\n",
       "      <td>0</td>\n",
       "      <td>0</td>\n",
       "      <td>0</td>\n",
       "      <td>0</td>\n",
       "    </tr>\n",
       "    <tr>\n",
       "      <th>4</th>\n",
       "      <td>5</td>\n",
       "      <td>41</td>\n",
       "      <td>130.0</td>\n",
       "      <td>204.0</td>\n",
       "      <td>172.0</td>\n",
       "      <td>1.4</td>\n",
       "      <td>0.0</td>\n",
       "      <td>0</td>\n",
       "      <td>0</td>\n",
       "      <td>1</td>\n",
       "      <td>0</td>\n",
       "      <td>1</td>\n",
       "      <td>0</td>\n",
       "      <td>1</td>\n",
       "      <td>0</td>\n",
       "    </tr>\n",
       "  </tbody>\n",
       "</table>\n",
       "</div>"
      ],
      "text/plain": [
       "   id  age  trestbps   chol  thalch  oldpeak   ca  num  Male  chest_pain  \\\n",
       "0   1   63     145.0  233.0   150.0      2.3  0.0    0     1           1   \n",
       "1   2   67     160.0  286.0   108.0      1.5  3.0    1     1           0   \n",
       "2   3   67     120.0  229.0   129.0      2.6  2.0    1     1           0   \n",
       "3   4   37     130.0  250.0   187.0      3.5  0.0    0     1           1   \n",
       "4   5   41     130.0  204.0   172.0      1.4  0.0    0     0           1   \n",
       "\n",
       "   high_fbs  abnormal_restecg  exercise_induced_angina  upsloping  defect  \n",
       "0         1                 1                        0          0       1  \n",
       "1         0                 1                        1          0       0  \n",
       "2         0                 1                        1          0       1  \n",
       "3         0                 0                        0          0       0  \n",
       "4         0                 1                        0          1       0  "
      ]
     },
     "execution_count": 5,
     "metadata": {},
     "output_type": "execute_result"
    }
   ],
   "source": [
    "cleveland_hd.head()"
   ]
  },
  {
   "cell_type": "markdown",
   "id": "08b5ea2a",
   "metadata": {},
   "source": [
    "## Split data into training and testing sets"
   ]
  },
  {
   "cell_type": "code",
   "execution_count": 6,
   "id": "a41791d7",
   "metadata": {},
   "outputs": [],
   "source": [
    "X_all_train, X_all_test, y_all_train, y_all_test = train_test_split(all_hd.drop(columns=['num', 'id']), \n",
    "                                                    all_hd.num, test_size=0.3, \n",
    "                                                    random_state=47)"
   ]
  },
  {
   "cell_type": "code",
   "execution_count": 7,
   "id": "58f8a6d1",
   "metadata": {},
   "outputs": [],
   "source": [
    "X_cleveland_train, X_cleveland_test, y_cleveland_train, y_cleveland_test = train_test_split(cleveland_hd.drop(columns=['num', 'id']), \n",
    "                                                    cleveland_hd.num, test_size=0.3, \n",
    "                                                    random_state=47)"
   ]
  },
  {
   "cell_type": "markdown",
   "id": "b436587c",
   "metadata": {},
   "source": [
    "## Logistic Regression"
   ]
  },
  {
   "cell_type": "markdown",
   "id": "8e53d1e3",
   "metadata": {},
   "source": [
    "### All datasets"
   ]
  },
  {
   "cell_type": "code",
   "execution_count": 8,
   "id": "5572b556",
   "metadata": {},
   "outputs": [],
   "source": [
    "pipe_log_reg_all = make_pipeline(\n",
    "    SimpleImputer(), \n",
    "    StandardScaler(),\n",
    "    LogisticRegression()\n",
    ")"
   ]
  },
  {
   "cell_type": "code",
   "execution_count": 9,
   "id": "393e1c05",
   "metadata": {},
   "outputs": [],
   "source": [
    "grid_params = {\n",
    "        'simpleimputer__strategy': ['mean', 'median'],\n",
    "        'standardscaler': [StandardScaler(), MinMaxScaler(), None],\n",
    "        'simpleimputer__strategy': ['mean', 'median'],\n",
    "        'logisticregression__C': [0.01, 0.1, 1, 10, 100],\n",
    "        'logisticregression__fit_intercept': [True, False],\n",
    "        'logisticregression__l1_ratio': [0, .1, .25, .5, .75, 1],\n",
    "        'logisticregression__penalty': ['elasticnet', None],\n",
    "        'logisticregression__solver': ['lbfgs', 'liblinear', 'newton-cg', 'newton-cholesky', 'sag', 'saga']\n",
    "}"
   ]
  },
  {
   "cell_type": "code",
   "execution_count": 10,
   "id": "ff6ab614",
   "metadata": {},
   "outputs": [
    {
     "name": "stdout",
     "output_type": "stream",
     "text": [
      "{'logisticregression__C': 0.01, 'logisticregression__fit_intercept': False, 'logisticregression__l1_ratio': 0, 'logisticregression__penalty': None, 'logisticregression__solver': 'lbfgs', 'simpleimputer__strategy': 'mean', 'standardscaler': MinMaxScaler()}\n",
      "Best Score = 0.8321308241401686\n"
     ]
    }
   ],
   "source": [
    "warnings.filterwarnings(\"ignore\")\n",
    "log_reg_all_grid_cv = GridSearchCV(pipe_log_reg_all, param_grid=grid_params, cv=5, n_jobs=-1, scoring='f1')\n",
    "log_reg_all_grid_cv.fit(X_all_train, y_all_train)\n",
    "print(log_reg_all_grid_cv.best_params_)\n",
    "print(f'Best Score = {log_reg_all_grid_cv.best_score_}')"
   ]
  },
  {
   "cell_type": "markdown",
   "id": "8ad74469",
   "metadata": {},
   "source": [
    "### Cleveland dataset"
   ]
  },
  {
   "cell_type": "code",
   "execution_count": 11,
   "id": "a49b2c99",
   "metadata": {},
   "outputs": [],
   "source": [
    "pipe_log_reg_cleveland = make_pipeline(\n",
    "    SimpleImputer(), \n",
    "    StandardScaler(),\n",
    "    LogisticRegression()\n",
    ")"
   ]
  },
  {
   "cell_type": "code",
   "execution_count": 12,
   "id": "ba63b5af",
   "metadata": {},
   "outputs": [
    {
     "name": "stdout",
     "output_type": "stream",
     "text": [
      "{'logisticregression__C': 0.1, 'logisticregression__fit_intercept': False, 'logisticregression__l1_ratio': 0.75, 'logisticregression__penalty': 'elasticnet', 'logisticregression__solver': 'saga', 'simpleimputer__strategy': 'median', 'standardscaler': StandardScaler()}\n",
      "Best Score = 0.8685332744730163\n"
     ]
    }
   ],
   "source": [
    "log_reg_cleveland_grid_cv = GridSearchCV(pipe_log_reg_cleveland, param_grid=grid_params, cv=5, n_jobs=-1, scoring='f1')\n",
    "log_reg_cleveland_grid_cv.fit(X_cleveland_train, y_cleveland_train)\n",
    "print(log_reg_cleveland_grid_cv.best_params_)\n",
    "print(f'Best Score = {log_reg_cleveland_grid_cv.best_score_}')"
   ]
  },
  {
   "cell_type": "markdown",
   "id": "ba84397d",
   "metadata": {},
   "source": [
    "## AdaBoost"
   ]
  },
  {
   "cell_type": "markdown",
   "id": "59a09a70",
   "metadata": {},
   "source": [
    "### All datasets - Decision Tree Estimator"
   ]
  },
  {
   "cell_type": "code",
   "execution_count": 13,
   "id": "d59f581a",
   "metadata": {},
   "outputs": [],
   "source": [
    "decision_tree = DecisionTreeClassifier()\n",
    "\n",
    "pipe_adaboost_decision_tree_all = make_pipeline(\n",
    "    SimpleImputer(), \n",
    "    StandardScaler(),\n",
    "    AdaBoostClassifier()\n",
    ")"
   ]
  },
  {
   "cell_type": "code",
   "execution_count": 14,
   "id": "1ee07517",
   "metadata": {},
   "outputs": [],
   "source": [
    "grid_params = {\n",
    "    'adaboostclassifier__estimator': [decision_tree],\n",
    "    'simpleimputer__strategy': ['mean', 'median'],\n",
    "    'standardscaler': [StandardScaler(), MinMaxScaler(), None],\n",
    "    'adaboostclassifier__algorithm': ['SAMME', 'SAMME.R'],\n",
    "    'adaboostclassifier__learning_rate': [.01, .25, .5, .75, 1],\n",
    "    'adaboostclassifier__n_estimators': [100, 200, 300, 400, 500],\n",
    "    'adaboostclassifier__estimator__ccp_alpha': [.001, .01, .1, .25],\n",
    "    'adaboostclassifier__estimator__criterion': ['gini', 'entropy', 'log_loss'],\n",
    "    'adaboostclassifier__estimator__max_depth': [1, 2, 3, 4],\n",
    "    'adaboostclassifier__estimator__max_features': [None, 'auto', 'sqrt', 'log2'], \n",
    "    'adaboostclassifier__estimator__min_impurity_decrease': [.0001, .001, .01, .1],\n",
    "    'adaboostclassifier__estimator__min_samples_leaf': [1, 2, 3, 4, 5],\n",
    "    'adaboostclassifier__estimator__min_samples_split': [2, 3, 4, 5],\n",
    "    'adaboostclassifier__estimator__splitter': ['best', 'random']\n",
    "}"
   ]
  },
  {
   "cell_type": "code",
   "execution_count": 15,
   "id": "d4bbf4fc",
   "metadata": {},
   "outputs": [
    {
     "name": "stdout",
     "output_type": "stream",
     "text": [
      "{'standardscaler': None, 'simpleimputer__strategy': 'median', 'adaboostclassifier__n_estimators': 300, 'adaboostclassifier__learning_rate': 0.01, 'adaboostclassifier__estimator__splitter': 'best', 'adaboostclassifier__estimator__min_samples_split': 4, 'adaboostclassifier__estimator__min_samples_leaf': 5, 'adaboostclassifier__estimator__min_impurity_decrease': 0.0001, 'adaboostclassifier__estimator__max_features': 'log2', 'adaboostclassifier__estimator__max_depth': 4, 'adaboostclassifier__estimator__criterion': 'gini', 'adaboostclassifier__estimator__ccp_alpha': 0.01, 'adaboostclassifier__estimator': DecisionTreeClassifier(ccp_alpha=0.01, max_depth=4, max_features='log2',\n",
      "                       min_impurity_decrease=0.0001, min_samples_leaf=5,\n",
      "                       min_samples_split=4), 'adaboostclassifier__algorithm': 'SAMME.R'}\n",
      "Best Score = 0.83280594576378\n"
     ]
    }
   ],
   "source": [
    "adaboost_decision_tree_all_grid_cv = RandomizedSearchCV(pipe_adaboost_decision_tree_all, param_distributions=grid_params, \n",
    "                                               cv=5, n_jobs=-1, n_iter = 180, scoring='f1')\n",
    "adaboost_decision_tree_all_grid_cv.fit(X_all_train, y_all_train)\n",
    "print(adaboost_decision_tree_all_grid_cv.best_params_)\n",
    "print(f'Best Score = {adaboost_decision_tree_all_grid_cv.best_score_}')"
   ]
  },
  {
   "cell_type": "markdown",
   "id": "992ad492",
   "metadata": {},
   "source": [
    "### All datasets - SVM Estimator"
   ]
  },
  {
   "cell_type": "code",
   "execution_count": 16,
   "id": "72988539",
   "metadata": {},
   "outputs": [],
   "source": [
    "svm = SVC(probability=True)\n",
    "\n",
    "pipe_adaboost_svm_all = make_pipeline(\n",
    "    SimpleImputer(), \n",
    "    StandardScaler(),\n",
    "    AdaBoostClassifier()\n",
    ")"
   ]
  },
  {
   "cell_type": "code",
   "execution_count": 17,
   "id": "430cd6e0",
   "metadata": {},
   "outputs": [],
   "source": [
    "grid_params = {\n",
    "    'adaboostclassifier__estimator': [svm],\n",
    "    'simpleimputer__strategy': ['mean', 'median'],\n",
    "    'standardscaler': [StandardScaler(), MinMaxScaler(), None],\n",
    "    'adaboostclassifier__algorithm': ['SAMME', 'SAMME.R'],\n",
    "    'adaboostclassifier__learning_rate': [.01, .25, .5, .75, 1],\n",
    "    'adaboostclassifier__n_estimators': [25, 50, 75, 100],\n",
    "    'adaboostclassifier__estimator__C': [0.01, 0.1, 1],\n",
    "    'adaboostclassifier__estimator__decision_function_shape': ['ovo', 'ovr'],\n",
    "    'adaboostclassifier__estimator__gamma': ['scale', 'auto'],\n",
    "    'adaboostclassifier__estimator__kernel': ['linear'],\n",
    "    'adaboostclassifier__estimator__shrinking': [True, False]\n",
    "}"
   ]
  },
  {
   "cell_type": "code",
   "execution_count": 18,
   "id": "309507dd",
   "metadata": {},
   "outputs": [
    {
     "name": "stdout",
     "output_type": "stream",
     "text": [
      "{'standardscaler': None, 'simpleimputer__strategy': 'mean', 'adaboostclassifier__n_estimators': 25, 'adaboostclassifier__learning_rate': 0.25, 'adaboostclassifier__estimator__shrinking': True, 'adaboostclassifier__estimator__kernel': 'linear', 'adaboostclassifier__estimator__gamma': 'auto', 'adaboostclassifier__estimator__decision_function_shape': 'ovr', 'adaboostclassifier__estimator__C': 0.1, 'adaboostclassifier__estimator': SVC(C=0.1, gamma='auto', kernel='linear', probability=True), 'adaboostclassifier__algorithm': 'SAMME.R'}\n",
      "Best Score = 0.8373209580748935\n"
     ]
    }
   ],
   "source": [
    "adaboost_svm_all_rand_cv = RandomizedSearchCV(pipe_adaboost_svm_all, param_distributions=grid_params, \n",
    "                                               cv=5, n_jobs=-1, n_iter = 180, scoring='f1')\n",
    "adaboost_svm_all_rand_cv.fit(X_all_train, y_all_train)\n",
    "print(adaboost_svm_all_rand_cv.best_params_)\n",
    "print(f'Best Score = {adaboost_svm_all_rand_cv.best_score_}')"
   ]
  },
  {
   "cell_type": "markdown",
   "id": "c39e01a1",
   "metadata": {},
   "source": [
    "### All datasets - Logistic Regression Estimator"
   ]
  },
  {
   "cell_type": "code",
   "execution_count": 19,
   "id": "2e4a55bf",
   "metadata": {},
   "outputs": [],
   "source": [
    "logistic_regression = LogisticRegression()\n",
    "\n",
    "pipe_adaboost_log_reg_all = make_pipeline(\n",
    "    SimpleImputer(), \n",
    "    StandardScaler(),\n",
    "    AdaBoostClassifier()\n",
    ")"
   ]
  },
  {
   "cell_type": "code",
   "execution_count": 20,
   "id": "d7aad121",
   "metadata": {},
   "outputs": [],
   "source": [
    "grid_params = {\n",
    "    'adaboostclassifier__estimator': [logistic_regression],\n",
    "    'simpleimputer__strategy': ['mean', 'median'],\n",
    "    'standardscaler': [StandardScaler(), MinMaxScaler(), None],\n",
    "    'adaboostclassifier__algorithm': ['SAMME', 'SAMME.R'],\n",
    "    'adaboostclassifier__learning_rate': [.01, .25, .5, .75, 1],\n",
    "    'adaboostclassifier__n_estimators': [100, 200, 300, 400, 500],\n",
    "    'adaboostclassifier__estimator__C': [0.01, 0.1, 1, 10, 100, 100],\n",
    "    'adaboostclassifier__estimator__fit_intercept': [True, False],\n",
    "    'adaboostclassifier__estimator__l1_ratio': [0, .1, .25, .5, .75, 1],\n",
    "    'adaboostclassifier__estimator__penalty': ['elasticnet', None],\n",
    "    'adaboostclassifier__estimator__solver': ['lbfgs', 'liblinear', 'newton-cg', 'newton-cholesky', 'sag', 'saga']\n",
    "}"
   ]
  },
  {
   "cell_type": "code",
   "execution_count": 21,
   "id": "79571d86",
   "metadata": {},
   "outputs": [
    {
     "name": "stdout",
     "output_type": "stream",
     "text": [
      "{'standardscaler': MinMaxScaler(), 'simpleimputer__strategy': 'mean', 'adaboostclassifier__n_estimators': 300, 'adaboostclassifier__learning_rate': 0.5, 'adaboostclassifier__estimator__solver': 'newton-cholesky', 'adaboostclassifier__estimator__penalty': None, 'adaboostclassifier__estimator__l1_ratio': 0.1, 'adaboostclassifier__estimator__fit_intercept': False, 'adaboostclassifier__estimator__C': 0.01, 'adaboostclassifier__estimator': LogisticRegression(C=0.01, fit_intercept=False, l1_ratio=0.1, penalty=None,\n",
      "                   solver='newton-cholesky'), 'adaboostclassifier__algorithm': 'SAMME'}\n",
      "Best Score = 0.833079850534669\n"
     ]
    }
   ],
   "source": [
    "adaboost_log_reg_all_rand_cv = RandomizedSearchCV(pipe_adaboost_log_reg_all, param_distributions=grid_params, \n",
    "                                               cv=5, n_jobs=-1, n_iter = 180, scoring='f1')\n",
    "adaboost_log_reg_all_rand_cv.fit(X_all_train, y_all_train)\n",
    "print(adaboost_log_reg_all_rand_cv.best_params_)\n",
    "print(f'Best Score = {adaboost_log_reg_all_rand_cv.best_score_}')"
   ]
  },
  {
   "cell_type": "markdown",
   "id": "5fa16eb1",
   "metadata": {},
   "source": [
    "### Cleveland dataset - Decision Tree Estimator"
   ]
  },
  {
   "cell_type": "code",
   "execution_count": 22,
   "id": "9b5b4fff",
   "metadata": {},
   "outputs": [],
   "source": [
    "decision_tree = DecisionTreeClassifier()\n",
    "\n",
    "pipe_adaboost_decision_tree_cleveland = make_pipeline(\n",
    "    SimpleImputer(), \n",
    "    StandardScaler(),\n",
    "    AdaBoostClassifier()\n",
    ")"
   ]
  },
  {
   "cell_type": "code",
   "execution_count": 23,
   "id": "95677984",
   "metadata": {},
   "outputs": [],
   "source": [
    "grid_params = {\n",
    "    'adaboostclassifier__estimator': [decision_tree],\n",
    "    'simpleimputer__strategy': ['mean', 'median'],\n",
    "    'standardscaler': [StandardScaler(), MinMaxScaler(), None],\n",
    "    'adaboostclassifier__algorithm': ['SAMME', 'SAMME.R'],\n",
    "    'adaboostclassifier__learning_rate': [.01, .25, .5, .75, 1],\n",
    "    'adaboostclassifier__n_estimators': [100, 200, 300, 400, 500],\n",
    "    'adaboostclassifier__estimator__ccp_alpha': [.001, .01, .1, .25],\n",
    "    'adaboostclassifier__estimator__criterion': ['gini', 'entropy', 'log_loss'],\n",
    "    'adaboostclassifier__estimator__max_depth': [1, 2, 3, 4],\n",
    "    'adaboostclassifier__estimator__max_features': [None, 'auto', 'sqrt', 'log2'], \n",
    "    'adaboostclassifier__estimator__min_impurity_decrease': [.0001, .001, .01, .1],\n",
    "    'adaboostclassifier__estimator__min_samples_leaf': [1, 2, 3, 4, 5],\n",
    "    'adaboostclassifier__estimator__min_samples_split': [2, 3, 4, 5],\n",
    "    'adaboostclassifier__estimator__splitter': ['best', 'random']\n",
    "}"
   ]
  },
  {
   "cell_type": "code",
   "execution_count": 24,
   "id": "aa92adba",
   "metadata": {},
   "outputs": [
    {
     "name": "stdout",
     "output_type": "stream",
     "text": [
      "{'standardscaler': None, 'simpleimputer__strategy': 'mean', 'adaboostclassifier__n_estimators': 500, 'adaboostclassifier__learning_rate': 0.5, 'adaboostclassifier__estimator__splitter': 'best', 'adaboostclassifier__estimator__min_samples_split': 5, 'adaboostclassifier__estimator__min_samples_leaf': 3, 'adaboostclassifier__estimator__min_impurity_decrease': 0.001, 'adaboostclassifier__estimator__max_features': 'log2', 'adaboostclassifier__estimator__max_depth': 2, 'adaboostclassifier__estimator__criterion': 'log_loss', 'adaboostclassifier__estimator__ccp_alpha': 0.1, 'adaboostclassifier__estimator': DecisionTreeClassifier(ccp_alpha=0.1, criterion='log_loss', max_depth=2,\n",
      "                       max_features='log2', min_impurity_decrease=0.001,\n",
      "                       min_samples_leaf=3, min_samples_split=5), 'adaboostclassifier__algorithm': 'SAMME.R'}\n",
      "Best Score = 0.8683822278174012\n"
     ]
    }
   ],
   "source": [
    "adaboost_decision_tree_cleveland_rand_cv = RandomizedSearchCV(pipe_adaboost_decision_tree_cleveland, param_distributions=grid_params, \n",
    "                                               cv=5, n_jobs=-1, n_iter = 180, scoring='f1')\n",
    "adaboost_decision_tree_cleveland_rand_cv.fit(X_cleveland_train, y_cleveland_train)\n",
    "print(adaboost_decision_tree_cleveland_rand_cv.best_params_)\n",
    "print(f'Best Score = {adaboost_decision_tree_cleveland_rand_cv.best_score_}')"
   ]
  },
  {
   "cell_type": "markdown",
   "id": "4093445f",
   "metadata": {},
   "source": [
    "### Cleveland dataset - SVM Estimator"
   ]
  },
  {
   "cell_type": "code",
   "execution_count": 25,
   "id": "8d7fc949",
   "metadata": {},
   "outputs": [],
   "source": [
    "svm = SVC(probability=True)\n",
    "\n",
    "pipe_adaboost_svm_cleveland = make_pipeline(\n",
    "    SimpleImputer(), \n",
    "    StandardScaler(),\n",
    "    AdaBoostClassifier()\n",
    ")"
   ]
  },
  {
   "cell_type": "code",
   "execution_count": 26,
   "id": "ca954f9d",
   "metadata": {},
   "outputs": [],
   "source": [
    "grid_params = {\n",
    "    'adaboostclassifier__estimator': [svm],\n",
    "    'simpleimputer__strategy': ['mean', 'median'],\n",
    "    'standardscaler': [StandardScaler(), MinMaxScaler(), None],\n",
    "    'adaboostclassifier__algorithm': ['SAMME', 'SAMME.R'],\n",
    "    'adaboostclassifier__learning_rate': [.01, .25, .5, .75, 1],\n",
    "    'adaboostclassifier__n_estimators': [25, 50, 75, 100],\n",
    "    'adaboostclassifier__estimator__C': [0.01, 0.1, 1],\n",
    "    'adaboostclassifier__estimator__decision_function_shape': ['ovo', 'ovr'],\n",
    "    'adaboostclassifier__estimator__gamma': ['scale', 'auto'],\n",
    "    'adaboostclassifier__estimator__kernel': ['linear'],\n",
    "    'adaboostclassifier__estimator__shrinking': [True, False]\n",
    "}"
   ]
  },
  {
   "cell_type": "code",
   "execution_count": 27,
   "id": "0452c3aa",
   "metadata": {},
   "outputs": [
    {
     "name": "stdout",
     "output_type": "stream",
     "text": [
      "{'standardscaler': StandardScaler(), 'simpleimputer__strategy': 'median', 'adaboostclassifier__n_estimators': 100, 'adaboostclassifier__learning_rate': 0.01, 'adaboostclassifier__estimator__shrinking': True, 'adaboostclassifier__estimator__kernel': 'linear', 'adaboostclassifier__estimator__gamma': 'scale', 'adaboostclassifier__estimator__decision_function_shape': 'ovr', 'adaboostclassifier__estimator__C': 1, 'adaboostclassifier__estimator': SVC(C=1, kernel='linear', probability=True), 'adaboostclassifier__algorithm': 'SAMME.R'}\n",
      "Best Score = 0.8572585309427415\n"
     ]
    }
   ],
   "source": [
    "adaboost_svm_cleveland_rand_cv = RandomizedSearchCV(pipe_adaboost_svm_cleveland, param_distributions=grid_params, \n",
    "                                               cv=5, n_jobs=-1, n_iter = 180, scoring='f1')\n",
    "adaboost_svm_cleveland_rand_cv.fit(X_cleveland_train, y_cleveland_train)\n",
    "print(adaboost_svm_cleveland_rand_cv.best_params_)\n",
    "print(f'Best Score = {adaboost_svm_cleveland_rand_cv.best_score_}')"
   ]
  },
  {
   "cell_type": "markdown",
   "id": "e37b551d",
   "metadata": {},
   "source": [
    "### Cleveland dataset - Logistic Regression Estimator"
   ]
  },
  {
   "cell_type": "code",
   "execution_count": 28,
   "id": "24ea1439",
   "metadata": {},
   "outputs": [],
   "source": [
    "logistic_regression = LogisticRegression()\n",
    "\n",
    "pipe_adaboost_log_reg_cleveland = make_pipeline(\n",
    "    SimpleImputer(), \n",
    "    StandardScaler(),\n",
    "    AdaBoostClassifier()\n",
    ")"
   ]
  },
  {
   "cell_type": "code",
   "execution_count": 29,
   "id": "4ccd4e16",
   "metadata": {},
   "outputs": [],
   "source": [
    "grid_params = {\n",
    "    'adaboostclassifier__estimator': [logistic_regression],\n",
    "    'simpleimputer__strategy': ['mean', 'median'],\n",
    "    'standardscaler': [StandardScaler(), MinMaxScaler(), None],\n",
    "    'adaboostclassifier__algorithm': ['SAMME', 'SAMME.R'],\n",
    "    'adaboostclassifier__learning_rate': [.01, .25, .5, .75, 1],\n",
    "    'adaboostclassifier__n_estimators': [100, 200, 300, 400, 500],\n",
    "    'adaboostclassifier__estimator__C': [0.01, 0.1, 1, 10, 100, 100],\n",
    "    'adaboostclassifier__estimator__fit_intercept': [True, False],\n",
    "    'adaboostclassifier__estimator__l1_ratio': [0, .1, .25, .5, .75, 1],\n",
    "    'adaboostclassifier__estimator__penalty': ['elasticnet', None],\n",
    "    'adaboostclassifier__estimator__solver': ['lbfgs', 'liblinear', 'newton-cg', 'newton-cholesky', 'sag', 'saga']\n",
    "}"
   ]
  },
  {
   "cell_type": "code",
   "execution_count": 30,
   "id": "19ddf775",
   "metadata": {},
   "outputs": [
    {
     "name": "stdout",
     "output_type": "stream",
     "text": [
      "{'standardscaler': MinMaxScaler(), 'simpleimputer__strategy': 'median', 'adaboostclassifier__n_estimators': 200, 'adaboostclassifier__learning_rate': 0.01, 'adaboostclassifier__estimator__solver': 'lbfgs', 'adaboostclassifier__estimator__penalty': None, 'adaboostclassifier__estimator__l1_ratio': 0.1, 'adaboostclassifier__estimator__fit_intercept': False, 'adaboostclassifier__estimator__C': 100, 'adaboostclassifier__estimator': LogisticRegression(C=100, fit_intercept=False, l1_ratio=0.1, penalty=None), 'adaboostclassifier__algorithm': 'SAMME'}\n",
      "Best Score = 0.8674725274725276\n"
     ]
    }
   ],
   "source": [
    "adaboost_log_reg_cleveland_rand_cv = RandomizedSearchCV(pipe_adaboost_log_reg_cleveland, param_distributions=grid_params, \n",
    "                                               cv=5, n_jobs=-1, n_iter = 180, scoring='f1')\n",
    "adaboost_log_reg_cleveland_rand_cv.fit(X_cleveland_train, y_cleveland_train)\n",
    "print(adaboost_log_reg_cleveland_rand_cv.best_params_)\n",
    "print(f'Best Score = {adaboost_log_reg_cleveland_rand_cv.best_score_}')"
   ]
  },
  {
   "cell_type": "markdown",
   "id": "f08577ba",
   "metadata": {},
   "source": [
    "## Random Forest"
   ]
  },
  {
   "cell_type": "markdown",
   "id": "695f83b7",
   "metadata": {},
   "source": [
    "### All datasets"
   ]
  },
  {
   "cell_type": "code",
   "execution_count": 31,
   "id": "4f38b190",
   "metadata": {},
   "outputs": [],
   "source": [
    "pipe_random_forest_all = make_pipeline(\n",
    "    SimpleImputer(), \n",
    "    StandardScaler(),\n",
    "    RandomForestClassifier()\n",
    ")"
   ]
  },
  {
   "cell_type": "code",
   "execution_count": 32,
   "id": "aa259570",
   "metadata": {},
   "outputs": [],
   "source": [
    "grid_params = {\n",
    "    'simpleimputer__strategy': ['mean', 'median'],\n",
    "    'standardscaler': [StandardScaler(), MinMaxScaler(), None],\n",
    "    'randomforestclassifier__bootstrap': [True, False],\n",
    "    'randomforestclassifier__ccp_alpha': [.0001, .001, .01, .1],\n",
    "    'randomforestclassifier__criterion': [\"gini\", \"entropy\", \"log_loss\"],\n",
    "    'randomforestclassifier__max_depth': [3, 5, 10, 20, None],\n",
    "    'randomforestclassifier__max_features': [\"sqrt\", \"log2\", None],\n",
    "    'randomforestclassifier__max_leaf_nodes': [10, 20, 50, 100, 200, None],\n",
    "    'randomforestclassifier__min_impurity_decrease': [0, .0001, .001, .01, .1],\n",
    "    'randomforestclassifier__min_samples_leaf': [1, 2, 3, 4, 5],\n",
    "    'randomforestclassifier__n_estimators': [100, 200, 300, 400, 500],\n",
    "    'randomforestclassifier__n_jobs': [-1]\n",
    "}"
   ]
  },
  {
   "cell_type": "code",
   "execution_count": 33,
   "id": "c25e8574",
   "metadata": {},
   "outputs": [
    {
     "name": "stdout",
     "output_type": "stream",
     "text": [
      "{'standardscaler': StandardScaler(), 'simpleimputer__strategy': 'mean', 'randomforestclassifier__n_jobs': -1, 'randomforestclassifier__n_estimators': 400, 'randomforestclassifier__min_samples_leaf': 1, 'randomforestclassifier__min_impurity_decrease': 0, 'randomforestclassifier__max_leaf_nodes': None, 'randomforestclassifier__max_features': 'log2', 'randomforestclassifier__max_depth': 10, 'randomforestclassifier__criterion': 'entropy', 'randomforestclassifier__ccp_alpha': 0.01, 'randomforestclassifier__bootstrap': False}\n",
      "Best Score = 0.8364529433820772\n"
     ]
    }
   ],
   "source": [
    "random_forest_all_grid_cv = RandomizedSearchCV(pipe_random_forest_all, param_distributions=grid_params, \n",
    "                                               cv=5, n_jobs=-1, n_iter = 180, scoring='f1')\n",
    "random_forest_all_grid_cv.fit(X_all_train, y_all_train)\n",
    "print(random_forest_all_grid_cv.best_params_)\n",
    "print(f'Best Score = {random_forest_all_grid_cv.best_score_}')"
   ]
  },
  {
   "cell_type": "markdown",
   "id": "af64c6c6",
   "metadata": {},
   "source": [
    "### Cleveland"
   ]
  },
  {
   "cell_type": "code",
   "execution_count": 34,
   "id": "5a0c1464",
   "metadata": {},
   "outputs": [],
   "source": [
    "pipe_random_forest_cleveland = make_pipeline(\n",
    "    SimpleImputer(), \n",
    "    StandardScaler(),\n",
    "    RandomForestClassifier()\n",
    ")"
   ]
  },
  {
   "cell_type": "code",
   "execution_count": 35,
   "id": "0dc47d0e",
   "metadata": {},
   "outputs": [],
   "source": [
    "grid_params = {\n",
    "    'simpleimputer__strategy': ['mean', 'median'],\n",
    "    'standardscaler': [StandardScaler(), MinMaxScaler(), None],\n",
    "    'randomforestclassifier__bootstrap': [True, False],\n",
    "    'randomforestclassifier__ccp_alpha': [.0001, .001, .01, .1],\n",
    "    'randomforestclassifier__criterion': [\"gini\", \"entropy\", \"log_loss\"],\n",
    "    'randomforestclassifier__max_depth': [3, 5, 10, 20, None],\n",
    "    'randomforestclassifier__max_features': [\"sqrt\", \"log2\", None],\n",
    "    'randomforestclassifier__max_leaf_nodes': [10, 20, 50, 100, 200, None],\n",
    "    'randomforestclassifier__min_impurity_decrease': [0, .0001, .001, .01, .1],\n",
    "    'randomforestclassifier__min_samples_leaf': [1, 2, 3, 4, 5],\n",
    "    'randomforestclassifier__n_estimators': [100, 200, 300, 400, 500],\n",
    "    'randomforestclassifier__n_jobs': [-1]\n",
    "}"
   ]
  },
  {
   "cell_type": "code",
   "execution_count": 36,
   "id": "600b3eec",
   "metadata": {},
   "outputs": [
    {
     "name": "stdout",
     "output_type": "stream",
     "text": [
      "{'standardscaler': MinMaxScaler(), 'simpleimputer__strategy': 'mean', 'randomforestclassifier__n_jobs': -1, 'randomforestclassifier__n_estimators': 500, 'randomforestclassifier__min_samples_leaf': 4, 'randomforestclassifier__min_impurity_decrease': 0.0001, 'randomforestclassifier__max_leaf_nodes': 50, 'randomforestclassifier__max_features': 'sqrt', 'randomforestclassifier__max_depth': 5, 'randomforestclassifier__criterion': 'gini', 'randomforestclassifier__ccp_alpha': 0.0001, 'randomforestclassifier__bootstrap': False}\n",
      "Best Score = 0.858958668920158\n"
     ]
    }
   ],
   "source": [
    "random_forest_cleveland_rand_cv = RandomizedSearchCV(pipe_random_forest_cleveland, param_distributions=grid_params, \n",
    "                                               cv=5, n_jobs=-1, n_iter = 180, scoring='f1')\n",
    "random_forest_cleveland_rand_cv.fit(X_cleveland_train, y_cleveland_train)\n",
    "print(random_forest_cleveland_rand_cv.best_params_)\n",
    "print(f'Best Score = {random_forest_cleveland_rand_cv.best_score_}')"
   ]
  },
  {
   "cell_type": "code",
   "execution_count": 37,
   "id": "66aeeda5",
   "metadata": {},
   "outputs": [],
   "source": [
    "warnings.resetwarnings()"
   ]
  },
  {
   "cell_type": "markdown",
   "id": "29d6a4c4",
   "metadata": {},
   "source": [
    "## Final Model Selection"
   ]
  },
  {
   "cell_type": "code",
   "execution_count": 38,
   "id": "18959d95",
   "metadata": {},
   "outputs": [],
   "source": [
    "def f1_score_output(model, X_train, X_test, y_train, y_test):\n",
    "    f1 = cross_validate(model.best_estimator_, X_train, y_train, scoring='f1', cv=5, n_jobs=-1)\n",
    "    f1_mean = np.mean(f1['test_score'])\n",
    "    f1_std = np.std(f1['test_score'])\n",
    "    print('Cross-Validation (Training Data)')\n",
    "    print(f1_mean, f1_std)\n",
    "    print('Test Score')\n",
    "    print(f1_score(y_test, model.best_estimator_.predict(X_test)))"
   ]
  },
  {
   "cell_type": "markdown",
   "id": "9d3049d9",
   "metadata": {},
   "source": [
    "## All datasets"
   ]
  },
  {
   "cell_type": "markdown",
   "id": "309053ca",
   "metadata": {},
   "source": [
    "### Logistic Regression"
   ]
  },
  {
   "cell_type": "code",
   "execution_count": 39,
   "id": "849ce3a1",
   "metadata": {},
   "outputs": [
    {
     "name": "stdout",
     "output_type": "stream",
     "text": [
      "Cross-Validation (Training Data)\n",
      "0.8321308241401686 0.011462114460607565\n",
      "Test Score\n",
      "0.8222996515679442\n"
     ]
    }
   ],
   "source": [
    "f1_score_output(log_reg_all_grid_cv, X_all_train, X_all_test, y_all_train, y_all_test)"
   ]
  },
  {
   "cell_type": "markdown",
   "id": "6b83afe7",
   "metadata": {},
   "source": [
    "### Adaboost - Decision Tree Estimator"
   ]
  },
  {
   "cell_type": "code",
   "execution_count": 40,
   "id": "c034c1a8",
   "metadata": {},
   "outputs": [
    {
     "name": "stdout",
     "output_type": "stream",
     "text": [
      "Cross-Validation (Training Data)\n",
      "0.8277380868855643 0.011618885896932026\n",
      "Test Score\n",
      "0.8299319727891156\n"
     ]
    }
   ],
   "source": [
    "f1_score_output(adaboost_decision_tree_all_grid_cv, X_all_train, X_all_test, y_all_train, y_all_test)"
   ]
  },
  {
   "cell_type": "markdown",
   "id": "b50f5d5d",
   "metadata": {},
   "source": [
    "### Adaboost - SVM Estimator"
   ]
  },
  {
   "cell_type": "code",
   "execution_count": 41,
   "id": "21f92607",
   "metadata": {},
   "outputs": [
    {
     "name": "stdout",
     "output_type": "stream",
     "text": [
      "Cross-Validation (Training Data)\n",
      "0.835640978109242 0.017507508431032714\n",
      "Test Score\n",
      "0.8280254777070064\n"
     ]
    }
   ],
   "source": [
    "f1_score_output(adaboost_svm_all_rand_cv, X_all_train, X_all_test, y_all_train, y_all_test)"
   ]
  },
  {
   "cell_type": "markdown",
   "id": "82ed137a",
   "metadata": {},
   "source": [
    "### Adaboost - Logistic Regression Estimator"
   ]
  },
  {
   "cell_type": "code",
   "execution_count": 42,
   "id": "8de7195b",
   "metadata": {},
   "outputs": [
    {
     "name": "stdout",
     "output_type": "stream",
     "text": [
      "Cross-Validation (Training Data)\n",
      "0.833079850534669 0.011756320958699568\n",
      "Test Score\n",
      "0.8275862068965517\n"
     ]
    }
   ],
   "source": [
    "f1_score_output(adaboost_log_reg_all_rand_cv, X_all_train, X_all_test, y_all_train, y_all_test)"
   ]
  },
  {
   "cell_type": "markdown",
   "id": "55a55bca",
   "metadata": {},
   "source": [
    "### Random Forest"
   ]
  },
  {
   "cell_type": "code",
   "execution_count": 43,
   "id": "edaff0b5",
   "metadata": {},
   "outputs": [
    {
     "name": "stdout",
     "output_type": "stream",
     "text": [
      "Cross-Validation (Training Data)\n",
      "0.8367031418194208 0.011491575046433876\n",
      "Test Score\n",
      "0.7986348122866894\n"
     ]
    }
   ],
   "source": [
    "f1_score_output(random_forest_all_grid_cv, X_all_train, X_all_test, y_all_train, y_all_test)"
   ]
  },
  {
   "cell_type": "markdown",
   "id": "0c691841",
   "metadata": {},
   "source": [
    "## Cleveland"
   ]
  },
  {
   "cell_type": "markdown",
   "id": "c1b974fa",
   "metadata": {},
   "source": [
    "### Logistic Regression"
   ]
  },
  {
   "cell_type": "code",
   "execution_count": 44,
   "id": "ac49af4f",
   "metadata": {},
   "outputs": [
    {
     "name": "stdout",
     "output_type": "stream",
     "text": [
      "Cross-Validation (Training Data)\n",
      "0.8685332744730163 0.04178642694731104\n",
      "Test Score\n",
      "0.7749999999999999\n"
     ]
    }
   ],
   "source": [
    "f1_score_output(log_reg_cleveland_grid_cv, X_cleveland_train, X_cleveland_test, y_cleveland_train, y_cleveland_test)"
   ]
  },
  {
   "cell_type": "markdown",
   "id": "bc42753b",
   "metadata": {},
   "source": [
    "### Adaboost - Decision Tree Estimator"
   ]
  },
  {
   "cell_type": "code",
   "execution_count": 45,
   "id": "7470193b",
   "metadata": {},
   "outputs": [
    {
     "name": "stdout",
     "output_type": "stream",
     "text": [
      "Cross-Validation (Training Data)\n",
      "0.8048675933294221 0.08288407654015287\n",
      "Test Score\n",
      "0.7297297297297297\n"
     ]
    }
   ],
   "source": [
    "f1_score_output(adaboost_decision_tree_cleveland_rand_cv, X_cleveland_train, X_cleveland_test, \n",
    "                y_cleveland_train, y_cleveland_test)"
   ]
  },
  {
   "cell_type": "markdown",
   "id": "049ce086",
   "metadata": {},
   "source": [
    "### Adaboost - SVM Estimator"
   ]
  },
  {
   "cell_type": "code",
   "execution_count": 46,
   "id": "ed4ee06a",
   "metadata": {},
   "outputs": [
    {
     "name": "stdout",
     "output_type": "stream",
     "text": [
      "Cross-Validation (Training Data)\n",
      "0.8572585309427415 0.025281657987366916\n",
      "Test Score\n",
      "0.8051948051948052\n"
     ]
    }
   ],
   "source": [
    "f1_score_output(adaboost_svm_cleveland_rand_cv, X_cleveland_train, X_cleveland_test, y_cleveland_train, y_cleveland_test)"
   ]
  },
  {
   "cell_type": "markdown",
   "id": "3053fded",
   "metadata": {},
   "source": [
    "### Adaboost - Logistic Regression Estimator"
   ]
  },
  {
   "cell_type": "code",
   "execution_count": 47,
   "id": "76cfca8f",
   "metadata": {},
   "outputs": [
    {
     "name": "stdout",
     "output_type": "stream",
     "text": [
      "Cross-Validation (Training Data)\n",
      "0.8674725274725276 0.02798510825895061\n",
      "Test Score\n",
      "0.7466666666666667\n"
     ]
    }
   ],
   "source": [
    "f1_score_output(adaboost_log_reg_cleveland_rand_cv, X_cleveland_train, X_cleveland_test, \n",
    "                y_cleveland_train, y_cleveland_test)"
   ]
  },
  {
   "cell_type": "markdown",
   "id": "5a02c76c",
   "metadata": {},
   "source": [
    "### Random Forest"
   ]
  },
  {
   "cell_type": "code",
   "execution_count": 48,
   "id": "fabff108",
   "metadata": {},
   "outputs": [
    {
     "name": "stdout",
     "output_type": "stream",
     "text": [
      "Cross-Validation (Training Data)\n",
      "0.8454593801577113 0.02567876641142049\n",
      "Test Score\n",
      "0.7792207792207793\n"
     ]
    }
   ],
   "source": [
    "f1_score_output(random_forest_cleveland_rand_cv, X_cleveland_train, X_cleveland_test, y_cleveland_train, y_cleveland_test)"
   ]
  },
  {
   "cell_type": "markdown",
   "id": "8e32821c",
   "metadata": {},
   "source": [
    "## Results"
   ]
  },
  {
   "cell_type": "markdown",
   "id": "b2503f72",
   "metadata": {},
   "source": [
    "Overall, the best performing model was the adaboost with decision tree estimator. This model had an F1 score of .830 on the test set. The models trained on the Cleveland only datasets were overfit so I will only be using this one model moving forward."
   ]
  },
  {
   "cell_type": "code",
   "execution_count": 49,
   "id": "63e9cd90",
   "metadata": {},
   "outputs": [],
   "source": [
    "best_model = adaboost_decision_tree_all_grid_cv.best_estimator_\n",
    "best_model.version = 1.0\n",
    "best_model.pandas_version = pd.__version__\n",
    "best_model.numpy_version = np.__version__\n",
    "best_model.sklearn_version = sklearn_version\n",
    "best_model.X_columns = [col for col in X_all_train.columns]\n",
    "best_model.build_datetime = datetime.datetime.now()"
   ]
  },
  {
   "cell_type": "code",
   "execution_count": 50,
   "id": "81c981af",
   "metadata": {},
   "outputs": [],
   "source": [
    "with open('../models/best_model.pickle', 'wb') as handle:\n",
    "    pickle.dump(best_model, handle, protocol=pickle.HIGHEST_PROTOCOL)\n",
    "\n",
    "data = {'X_train': X_all_train, 'y_train': y_all_train, 'X_test': X_all_test, 'y_test': y_all_test}\n",
    "\n",
    "with open('../data/processed/test_data.pickle', 'wb') as handle:\n",
    "    pickle.dump(data, handle, protocol=pickle.HIGHEST_PROTOCOL)"
   ]
  }
 ],
 "metadata": {
  "kernelspec": {
   "display_name": "Python 3 (ipykernel)",
   "language": "python",
   "name": "python3"
  },
  "language_info": {
   "codemirror_mode": {
    "name": "ipython",
    "version": 3
   },
   "file_extension": ".py",
   "mimetype": "text/x-python",
   "name": "python",
   "nbconvert_exporter": "python",
   "pygments_lexer": "ipython3",
   "version": "3.10.9"
  }
 },
 "nbformat": 4,
 "nbformat_minor": 5
}
