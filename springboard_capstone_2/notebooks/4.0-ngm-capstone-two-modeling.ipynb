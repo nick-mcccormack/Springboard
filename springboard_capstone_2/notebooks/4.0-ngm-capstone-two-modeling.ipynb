{
 "cells": [
  {
   "cell_type": "markdown",
   "id": "55c9e0ef",
   "metadata": {},
   "source": [
    "## Imports"
   ]
  },
  {
   "cell_type": "code",
   "execution_count": 1,
   "id": "d3e1fb29",
   "metadata": {},
   "outputs": [],
   "source": [
    "import pandas as pd\n",
    "import numpy as np\n",
    "from sklearn.model_selection import train_test_split, cross_validate, RandomizedSearchCV\n",
    "from sklearn.pipeline import make_pipeline\n",
    "from sklearn.impute import SimpleImputer\n",
    "from sklearn.preprocessing import StandardScaler, MinMaxScaler\n",
    "from sklearn.linear_model import LogisticRegression\n",
    "from sklearn.ensemble import AdaBoostClassifier, RandomForestClassifier\n",
    "from sklearn.tree import DecisionTreeClassifier\n",
    "from sklearn.svm import SVC\n",
    "from sklearn.metrics import f1_score\n",
    "import warnings"
   ]
  },
  {
   "cell_type": "markdown",
   "id": "25d9a7aa",
   "metadata": {},
   "source": [
    "## Read in csv files"
   ]
  },
  {
   "cell_type": "code",
   "execution_count": 2,
   "id": "40d74a94",
   "metadata": {},
   "outputs": [],
   "source": [
    "all_hd = pd.read_csv('../data/interim/heart_disease_data_all_pt2.csv').drop('Unnamed: 0', axis=1)\n",
    "cleveland_hd = pd.read_csv('../data/interim/heart_disease_data_cleveland_pt2.csv').drop('Unnamed: 0', axis=1)"
   ]
  },
  {
   "cell_type": "markdown",
   "id": "c7b4dd0c",
   "metadata": {},
   "source": [
    "## View data"
   ]
  },
  {
   "cell_type": "code",
   "execution_count": 3,
   "id": "c32ce6f9",
   "metadata": {},
   "outputs": [
    {
     "data": {
      "text/html": [
       "<div>\n",
       "<style scoped>\n",
       "    .dataframe tbody tr th:only-of-type {\n",
       "        vertical-align: middle;\n",
       "    }\n",
       "\n",
       "    .dataframe tbody tr th {\n",
       "        vertical-align: top;\n",
       "    }\n",
       "\n",
       "    .dataframe thead th {\n",
       "        text-align: right;\n",
       "    }\n",
       "</style>\n",
       "<table border=\"1\" class=\"dataframe\">\n",
       "  <thead>\n",
       "    <tr style=\"text-align: right;\">\n",
       "      <th></th>\n",
       "      <th>id</th>\n",
       "      <th>age</th>\n",
       "      <th>trestbps</th>\n",
       "      <th>chol</th>\n",
       "      <th>thalch</th>\n",
       "      <th>oldpeak</th>\n",
       "      <th>num</th>\n",
       "      <th>Male</th>\n",
       "      <th>chest_pain</th>\n",
       "      <th>high_fbs</th>\n",
       "      <th>abnormal_restecg</th>\n",
       "      <th>exercise_induced_angina</th>\n",
       "    </tr>\n",
       "  </thead>\n",
       "  <tbody>\n",
       "    <tr>\n",
       "      <th>0</th>\n",
       "      <td>1</td>\n",
       "      <td>63</td>\n",
       "      <td>145.0</td>\n",
       "      <td>233.0</td>\n",
       "      <td>150.0</td>\n",
       "      <td>2.3</td>\n",
       "      <td>0</td>\n",
       "      <td>1</td>\n",
       "      <td>1</td>\n",
       "      <td>1</td>\n",
       "      <td>1</td>\n",
       "      <td>0</td>\n",
       "    </tr>\n",
       "    <tr>\n",
       "      <th>1</th>\n",
       "      <td>2</td>\n",
       "      <td>67</td>\n",
       "      <td>160.0</td>\n",
       "      <td>286.0</td>\n",
       "      <td>108.0</td>\n",
       "      <td>1.5</td>\n",
       "      <td>1</td>\n",
       "      <td>1</td>\n",
       "      <td>0</td>\n",
       "      <td>0</td>\n",
       "      <td>1</td>\n",
       "      <td>1</td>\n",
       "    </tr>\n",
       "    <tr>\n",
       "      <th>2</th>\n",
       "      <td>3</td>\n",
       "      <td>67</td>\n",
       "      <td>120.0</td>\n",
       "      <td>229.0</td>\n",
       "      <td>129.0</td>\n",
       "      <td>2.6</td>\n",
       "      <td>1</td>\n",
       "      <td>1</td>\n",
       "      <td>0</td>\n",
       "      <td>0</td>\n",
       "      <td>1</td>\n",
       "      <td>1</td>\n",
       "    </tr>\n",
       "    <tr>\n",
       "      <th>3</th>\n",
       "      <td>4</td>\n",
       "      <td>37</td>\n",
       "      <td>130.0</td>\n",
       "      <td>250.0</td>\n",
       "      <td>187.0</td>\n",
       "      <td>3.5</td>\n",
       "      <td>0</td>\n",
       "      <td>1</td>\n",
       "      <td>1</td>\n",
       "      <td>0</td>\n",
       "      <td>0</td>\n",
       "      <td>0</td>\n",
       "    </tr>\n",
       "    <tr>\n",
       "      <th>4</th>\n",
       "      <td>5</td>\n",
       "      <td>41</td>\n",
       "      <td>130.0</td>\n",
       "      <td>204.0</td>\n",
       "      <td>172.0</td>\n",
       "      <td>1.4</td>\n",
       "      <td>0</td>\n",
       "      <td>0</td>\n",
       "      <td>1</td>\n",
       "      <td>0</td>\n",
       "      <td>1</td>\n",
       "      <td>0</td>\n",
       "    </tr>\n",
       "  </tbody>\n",
       "</table>\n",
       "</div>"
      ],
      "text/plain": [
       "   id  age  trestbps   chol  thalch  oldpeak  num  Male  chest_pain  high_fbs  \\\n",
       "0   1   63     145.0  233.0   150.0      2.3    0     1           1         1   \n",
       "1   2   67     160.0  286.0   108.0      1.5    1     1           0         0   \n",
       "2   3   67     120.0  229.0   129.0      2.6    1     1           0         0   \n",
       "3   4   37     130.0  250.0   187.0      3.5    0     1           1         0   \n",
       "4   5   41     130.0  204.0   172.0      1.4    0     0           1         0   \n",
       "\n",
       "   abnormal_restecg  exercise_induced_angina  \n",
       "0                 1                        0  \n",
       "1                 1                        1  \n",
       "2                 1                        1  \n",
       "3                 0                        0  \n",
       "4                 1                        0  "
      ]
     },
     "execution_count": 3,
     "metadata": {},
     "output_type": "execute_result"
    }
   ],
   "source": [
    "all_hd.head()"
   ]
  },
  {
   "cell_type": "code",
   "execution_count": 4,
   "id": "e05ca07b",
   "metadata": {},
   "outputs": [
    {
     "data": {
      "text/html": [
       "<div>\n",
       "<style scoped>\n",
       "    .dataframe tbody tr th:only-of-type {\n",
       "        vertical-align: middle;\n",
       "    }\n",
       "\n",
       "    .dataframe tbody tr th {\n",
       "        vertical-align: top;\n",
       "    }\n",
       "\n",
       "    .dataframe thead th {\n",
       "        text-align: right;\n",
       "    }\n",
       "</style>\n",
       "<table border=\"1\" class=\"dataframe\">\n",
       "  <thead>\n",
       "    <tr style=\"text-align: right;\">\n",
       "      <th></th>\n",
       "      <th>id</th>\n",
       "      <th>age</th>\n",
       "      <th>trestbps</th>\n",
       "      <th>chol</th>\n",
       "      <th>thalch</th>\n",
       "      <th>oldpeak</th>\n",
       "      <th>ca</th>\n",
       "      <th>num</th>\n",
       "      <th>Male</th>\n",
       "      <th>chest_pain</th>\n",
       "      <th>high_fbs</th>\n",
       "      <th>abnormal_restecg</th>\n",
       "      <th>exercise_induced_angina</th>\n",
       "      <th>upsloping</th>\n",
       "      <th>defect</th>\n",
       "    </tr>\n",
       "  </thead>\n",
       "  <tbody>\n",
       "    <tr>\n",
       "      <th>0</th>\n",
       "      <td>1</td>\n",
       "      <td>63</td>\n",
       "      <td>145.0</td>\n",
       "      <td>233.0</td>\n",
       "      <td>150.0</td>\n",
       "      <td>2.3</td>\n",
       "      <td>0.0</td>\n",
       "      <td>0</td>\n",
       "      <td>1</td>\n",
       "      <td>1</td>\n",
       "      <td>1</td>\n",
       "      <td>1</td>\n",
       "      <td>0</td>\n",
       "      <td>0</td>\n",
       "      <td>1</td>\n",
       "    </tr>\n",
       "    <tr>\n",
       "      <th>1</th>\n",
       "      <td>2</td>\n",
       "      <td>67</td>\n",
       "      <td>160.0</td>\n",
       "      <td>286.0</td>\n",
       "      <td>108.0</td>\n",
       "      <td>1.5</td>\n",
       "      <td>3.0</td>\n",
       "      <td>1</td>\n",
       "      <td>1</td>\n",
       "      <td>0</td>\n",
       "      <td>0</td>\n",
       "      <td>1</td>\n",
       "      <td>1</td>\n",
       "      <td>0</td>\n",
       "      <td>0</td>\n",
       "    </tr>\n",
       "    <tr>\n",
       "      <th>2</th>\n",
       "      <td>3</td>\n",
       "      <td>67</td>\n",
       "      <td>120.0</td>\n",
       "      <td>229.0</td>\n",
       "      <td>129.0</td>\n",
       "      <td>2.6</td>\n",
       "      <td>2.0</td>\n",
       "      <td>1</td>\n",
       "      <td>1</td>\n",
       "      <td>0</td>\n",
       "      <td>0</td>\n",
       "      <td>1</td>\n",
       "      <td>1</td>\n",
       "      <td>0</td>\n",
       "      <td>1</td>\n",
       "    </tr>\n",
       "    <tr>\n",
       "      <th>3</th>\n",
       "      <td>4</td>\n",
       "      <td>37</td>\n",
       "      <td>130.0</td>\n",
       "      <td>250.0</td>\n",
       "      <td>187.0</td>\n",
       "      <td>3.5</td>\n",
       "      <td>0.0</td>\n",
       "      <td>0</td>\n",
       "      <td>1</td>\n",
       "      <td>1</td>\n",
       "      <td>0</td>\n",
       "      <td>0</td>\n",
       "      <td>0</td>\n",
       "      <td>0</td>\n",
       "      <td>0</td>\n",
       "    </tr>\n",
       "    <tr>\n",
       "      <th>4</th>\n",
       "      <td>5</td>\n",
       "      <td>41</td>\n",
       "      <td>130.0</td>\n",
       "      <td>204.0</td>\n",
       "      <td>172.0</td>\n",
       "      <td>1.4</td>\n",
       "      <td>0.0</td>\n",
       "      <td>0</td>\n",
       "      <td>0</td>\n",
       "      <td>1</td>\n",
       "      <td>0</td>\n",
       "      <td>1</td>\n",
       "      <td>0</td>\n",
       "      <td>1</td>\n",
       "      <td>0</td>\n",
       "    </tr>\n",
       "  </tbody>\n",
       "</table>\n",
       "</div>"
      ],
      "text/plain": [
       "   id  age  trestbps   chol  thalch  oldpeak   ca  num  Male  chest_pain  \\\n",
       "0   1   63     145.0  233.0   150.0      2.3  0.0    0     1           1   \n",
       "1   2   67     160.0  286.0   108.0      1.5  3.0    1     1           0   \n",
       "2   3   67     120.0  229.0   129.0      2.6  2.0    1     1           0   \n",
       "3   4   37     130.0  250.0   187.0      3.5  0.0    0     1           1   \n",
       "4   5   41     130.0  204.0   172.0      1.4  0.0    0     0           1   \n",
       "\n",
       "   high_fbs  abnormal_restecg  exercise_induced_angina  upsloping  defect  \n",
       "0         1                 1                        0          0       1  \n",
       "1         0                 1                        1          0       0  \n",
       "2         0                 1                        1          0       1  \n",
       "3         0                 0                        0          0       0  \n",
       "4         0                 1                        0          1       0  "
      ]
     },
     "execution_count": 4,
     "metadata": {},
     "output_type": "execute_result"
    }
   ],
   "source": [
    "cleveland_hd.head()"
   ]
  },
  {
   "cell_type": "markdown",
   "id": "08b5ea2a",
   "metadata": {},
   "source": [
    "## Split data into training and testing sets"
   ]
  },
  {
   "cell_type": "code",
   "execution_count": 5,
   "id": "a41791d7",
   "metadata": {},
   "outputs": [],
   "source": [
    "X_all_train, X_all_test, y_all_train, y_all_test = train_test_split(all_hd.drop(columns='num'), \n",
    "                                                    all_hd.num, test_size=0.3, \n",
    "                                                    random_state=47)"
   ]
  },
  {
   "cell_type": "code",
   "execution_count": 6,
   "id": "58f8a6d1",
   "metadata": {},
   "outputs": [],
   "source": [
    "X_cleveland_train, X_cleveland_test, y_cleveland_train, y_cleveland_test = train_test_split(cleveland_hd.drop(columns='num'), \n",
    "                                                    cleveland_hd.num, test_size=0.3, \n",
    "                                                    random_state=47)"
   ]
  },
  {
   "cell_type": "markdown",
   "id": "b436587c",
   "metadata": {},
   "source": [
    "## Logistic Regression"
   ]
  },
  {
   "cell_type": "markdown",
   "id": "8e53d1e3",
   "metadata": {},
   "source": [
    "### All datasets"
   ]
  },
  {
   "cell_type": "code",
   "execution_count": 7,
   "id": "5572b556",
   "metadata": {},
   "outputs": [],
   "source": [
    "pipe_log_reg_all = make_pipeline(\n",
    "    SimpleImputer(), \n",
    "    StandardScaler(),\n",
    "    LogisticRegression()\n",
    ")"
   ]
  },
  {
   "cell_type": "code",
   "execution_count": 8,
   "id": "393e1c05",
   "metadata": {},
   "outputs": [],
   "source": [
    "grid_params = {\n",
    "        'simpleimputer__strategy': ['mean', 'median'],\n",
    "        'standardscaler': [StandardScaler(), MinMaxScaler(), None],\n",
    "        'simpleimputer__strategy': ['mean', 'median'],\n",
    "        'logisticregression__C': [0.01, 0.1, 1, 10, 100],\n",
    "        'logisticregression__fit_intercept': [True, False],\n",
    "        'logisticregression__l1_ratio': [0, .1, .25, .5, .75, 1],\n",
    "        'logisticregression__penalty': ['elasticnet', None],\n",
    "        'logisticregression__solver': ['lbfgs', 'liblinear', 'newton-cg', 'newton-cholesky', 'sag', 'saga']\n",
    "}"
   ]
  },
  {
   "cell_type": "code",
   "execution_count": 9,
   "id": "ff6ab614",
   "metadata": {},
   "outputs": [
    {
     "name": "stdout",
     "output_type": "stream",
     "text": [
      "{'standardscaler': MinMaxScaler(), 'simpleimputer__strategy': 'median', 'logisticregression__solver': 'saga', 'logisticregression__penalty': None, 'logisticregression__l1_ratio': 0.25, 'logisticregression__fit_intercept': False, 'logisticregression__C': 100}\n",
      "Best Score = 0.8404747731624299\n"
     ]
    }
   ],
   "source": [
    "warnings.filterwarnings(\"ignore\")\n",
    "log_reg_all_rand_cv = RandomizedSearchCV(pipe_log_reg_all, param_distributions=grid_params, cv=5, n_jobs=-1, n_iter = 60,\n",
    "                                         scoring='f1')\n",
    "log_reg_all_rand_cv.fit(X_all_train, y_all_train)\n",
    "print(log_reg_all_rand_cv.best_params_)\n",
    "print(f'Best Score = {log_reg_all_rand_cv.best_score_}')"
   ]
  },
  {
   "cell_type": "markdown",
   "id": "8ad74469",
   "metadata": {},
   "source": [
    "### Cleveland dataset"
   ]
  },
  {
   "cell_type": "code",
   "execution_count": 10,
   "id": "a49b2c99",
   "metadata": {},
   "outputs": [],
   "source": [
    "pipe_log_reg_cleveland = make_pipeline(\n",
    "    SimpleImputer(strategy='median'), \n",
    "    StandardScaler(),\n",
    "    LogisticRegression()\n",
    ")"
   ]
  },
  {
   "cell_type": "code",
   "execution_count": 11,
   "id": "ba63b5af",
   "metadata": {},
   "outputs": [
    {
     "name": "stdout",
     "output_type": "stream",
     "text": [
      "{'standardscaler': None, 'simpleimputer__strategy': 'mean', 'logisticregression__solver': 'newton-cholesky', 'logisticregression__penalty': None, 'logisticregression__l1_ratio': 0, 'logisticregression__fit_intercept': False, 'logisticregression__C': 0.01}\n",
      "Best Score = 0.851592662080467\n"
     ]
    }
   ],
   "source": [
    "log_reg_cleveland_rand_cv = RandomizedSearchCV(pipe_log_reg_cleveland, param_distributions=grid_params, \n",
    "                                               cv=5, n_jobs=-1, n_iter = 60, scoring='f1')\n",
    "log_reg_cleveland_rand_cv.fit(X_cleveland_train, y_cleveland_train)\n",
    "print(log_reg_cleveland_rand_cv.best_params_)\n",
    "print(f'Best Score = {log_reg_cleveland_rand_cv.best_score_}')"
   ]
  },
  {
   "cell_type": "markdown",
   "id": "ba84397d",
   "metadata": {},
   "source": [
    "## AdaBoost"
   ]
  },
  {
   "cell_type": "markdown",
   "id": "59a09a70",
   "metadata": {},
   "source": [
    "### All datasets - Decision Tree Estimator"
   ]
  },
  {
   "cell_type": "code",
   "execution_count": 12,
   "id": "d59f581a",
   "metadata": {},
   "outputs": [],
   "source": [
    "decision_tree = DecisionTreeClassifier()\n",
    "\n",
    "pipe_adaboost_decision_tree_all = make_pipeline(\n",
    "    SimpleImputer(), \n",
    "    StandardScaler(),\n",
    "    AdaBoostClassifier()\n",
    ")"
   ]
  },
  {
   "cell_type": "code",
   "execution_count": 13,
   "id": "1ee07517",
   "metadata": {},
   "outputs": [],
   "source": [
    "grid_params = {\n",
    "    'adaboostclassifier__estimator': [decision_tree],\n",
    "    'simpleimputer__strategy': ['mean', 'median'],\n",
    "    'standardscaler': [StandardScaler(), MinMaxScaler(), None],\n",
    "    'adaboostclassifier__algorithm': ['SAMME', 'SAMME.R'],\n",
    "    'adaboostclassifier__learning_rate': [.01, .25, .5, .75, 1],\n",
    "    'adaboostclassifier__n_estimators': [100, 200, 300, 400, 500],\n",
    "    'adaboostclassifier__estimator__ccp_alpha': [.001, .01, .1, .25],\n",
    "    'adaboostclassifier__estimator__criterion': ['gini', 'entropy', 'log_loss'],\n",
    "    'adaboostclassifier__estimator__max_depth': [1, 2, 3, 4],\n",
    "    'adaboostclassifier__estimator__max_features': [None, 'auto', 'sqrt', 'log2'], \n",
    "    'adaboostclassifier__estimator__min_impurity_decrease': [.0001, .001, .01, .1],\n",
    "    'adaboostclassifier__estimator__min_samples_leaf': [1, 2, 3, 4, 5],\n",
    "    'adaboostclassifier__estimator__min_samples_split': [2, 3, 4, 5],\n",
    "    'adaboostclassifier__estimator__splitter': ['best', 'random']\n",
    "}"
   ]
  },
  {
   "cell_type": "code",
   "execution_count": 14,
   "id": "d4bbf4fc",
   "metadata": {},
   "outputs": [
    {
     "name": "stdout",
     "output_type": "stream",
     "text": [
      "{'standardscaler': None, 'simpleimputer__strategy': 'median', 'adaboostclassifier__n_estimators': 300, 'adaboostclassifier__learning_rate': 0.75, 'adaboostclassifier__estimator__splitter': 'best', 'adaboostclassifier__estimator__min_samples_split': 4, 'adaboostclassifier__estimator__min_samples_leaf': 5, 'adaboostclassifier__estimator__min_impurity_decrease': 0.001, 'adaboostclassifier__estimator__max_features': 'log2', 'adaboostclassifier__estimator__max_depth': 2, 'adaboostclassifier__estimator__criterion': 'log_loss', 'adaboostclassifier__estimator__ccp_alpha': 0.01, 'adaboostclassifier__estimator': DecisionTreeClassifier(ccp_alpha=0.01, criterion='log_loss', max_depth=2,\n",
      "                       max_features='log2', min_impurity_decrease=0.001,\n",
      "                       min_samples_leaf=5, min_samples_split=4), 'adaboostclassifier__algorithm': 'SAMME'}\n",
      "Best Score = 0.8880168577682017\n"
     ]
    }
   ],
   "source": [
    "adaboost_decision_tree_all_grid_cv = RandomizedSearchCV(pipe_adaboost_decision_tree_all, param_distributions=grid_params, \n",
    "                                               cv=5, n_jobs=-1, n_iter = 180, scoring='f1')\n",
    "adaboost_decision_tree_all_grid_cv.fit(X_all_train, y_all_train)\n",
    "print(adaboost_decision_tree_all_grid_cv.best_params_)\n",
    "print(f'Best Score = {adaboost_decision_tree_all_grid_cv.best_score_}')"
   ]
  },
  {
   "cell_type": "markdown",
   "id": "992ad492",
   "metadata": {},
   "source": [
    "### All datasets - SVM Estimator"
   ]
  },
  {
   "cell_type": "code",
   "execution_count": 15,
   "id": "72988539",
   "metadata": {},
   "outputs": [],
   "source": [
    "svm = SVC(probability=True)\n",
    "\n",
    "pipe_adaboost_svm_all = make_pipeline(\n",
    "    SimpleImputer(), \n",
    "    StandardScaler(),\n",
    "    AdaBoostClassifier()\n",
    ")"
   ]
  },
  {
   "cell_type": "code",
   "execution_count": 16,
   "id": "430cd6e0",
   "metadata": {},
   "outputs": [],
   "source": [
    "grid_params = {\n",
    "    'adaboostclassifier__estimator': [svm],\n",
    "    'simpleimputer__strategy': ['mean', 'median'],\n",
    "    'standardscaler': [StandardScaler(), MinMaxScaler(), None],\n",
    "    'adaboostclassifier__algorithm': ['SAMME', 'SAMME.R'],\n",
    "    'adaboostclassifier__learning_rate': [.01, .25, .5, .75, 1],\n",
    "    'adaboostclassifier__n_estimators': [25, 50, 75, 100],\n",
    "    'adaboostclassifier__estimator__C': [0.01, 0.1, 1],\n",
    "    'adaboostclassifier__estimator__decision_function_shape': ['ovo', 'ovr'],\n",
    "    'adaboostclassifier__estimator__gamma': ['scale', 'auto'],\n",
    "    'adaboostclassifier__estimator__kernel': ['linear'],\n",
    "    'adaboostclassifier__estimator__shrinking': [True, False]\n",
    "}"
   ]
  },
  {
   "cell_type": "code",
   "execution_count": null,
   "id": "309507dd",
   "metadata": {},
   "outputs": [],
   "source": [
    "adaboost_svm_all_rand_cv = RandomizedSearchCV(pipe_adaboost_svm_all, param_distributions=grid_params, \n",
    "                                               cv=5, n_jobs=-1, n_iter = 60, scoring='f1')\n",
    "adaboost_svm_all_rand_cv.fit(X_all_train, y_all_train)\n",
    "print(adaboost_svm_all_rand_cv.best_params_)\n",
    "print(f'Best Score = {adaboost_svm_all_rand_cv.best_score_}')"
   ]
  },
  {
   "cell_type": "markdown",
   "id": "c39e01a1",
   "metadata": {},
   "source": [
    "### All datasets - Logistic Regression Estimator"
   ]
  },
  {
   "cell_type": "code",
   "execution_count": null,
   "id": "2e4a55bf",
   "metadata": {},
   "outputs": [],
   "source": [
    "logistic_regression = LogisticRegression()\n",
    "\n",
    "pipe_adaboost_log_reg_all = make_pipeline(\n",
    "    SimpleImputer(), \n",
    "    StandardScaler(),\n",
    "    AdaBoostClassifier()\n",
    ")"
   ]
  },
  {
   "cell_type": "code",
   "execution_count": null,
   "id": "d7aad121",
   "metadata": {},
   "outputs": [],
   "source": [
    "grid_params = {\n",
    "    'adaboostclassifier__estimator': [logistic_regression],\n",
    "    'simpleimputer__strategy': ['mean', 'median'],\n",
    "    'standardscaler': [StandardScaler(), MinMaxScaler(), None],\n",
    "    'adaboostclassifier__algorithm': ['SAMME', 'SAMME.R'],\n",
    "    'adaboostclassifier__learning_rate': [.01, .25, .5, .75, 1],\n",
    "    'adaboostclassifier__n_estimators': [100, 200, 300, 400, 500],\n",
    "    'adaboostclassifier__estimator__C': [0.01, 0.1, 1, 10, 100, 100],\n",
    "    'adaboostclassifier__estimator__fit_intercept': [True, False],\n",
    "    'adaboostclassifier__estimator__l1_ratio': [0, .1, .25, .5, .75, 1],\n",
    "    'adaboostclassifier__estimator__penalty': ['elasticnet', None],\n",
    "    'adaboostclassifier__estimator__solver': ['lbfgs', 'liblinear', 'newton-cg', 'newton-cholesky', 'sag', 'saga']\n",
    "}"
   ]
  },
  {
   "cell_type": "code",
   "execution_count": null,
   "id": "79571d86",
   "metadata": {},
   "outputs": [],
   "source": [
    "adaboost_log_reg_all_rand_cv = RandomizedSearchCV(pipe_adaboost_log_reg_all, param_distributions=grid_params, \n",
    "                                               cv=5, n_jobs=-1, n_iter = 60, scoring='f1')\n",
    "adaboost_log_reg_all_rand_cv.fit(X_all_train, y_all_train)\n",
    "print(adaboost_log_reg_all_rand_cv.best_params_)\n",
    "print(f'Best Score = {adaboost_log_reg_all_rand_cv.best_score_}')"
   ]
  },
  {
   "cell_type": "markdown",
   "id": "5fa16eb1",
   "metadata": {},
   "source": [
    "### Cleveland dataset - Decision Tree Estimator"
   ]
  },
  {
   "cell_type": "code",
   "execution_count": null,
   "id": "9b5b4fff",
   "metadata": {},
   "outputs": [],
   "source": [
    "decision_tree = DecisionTreeClassifier()\n",
    "\n",
    "pipe_adaboost_decision_tree_cleveland = make_pipeline(\n",
    "    SimpleImputer(), \n",
    "    StandardScaler(),\n",
    "    AdaBoostClassifier()\n",
    ")"
   ]
  },
  {
   "cell_type": "code",
   "execution_count": null,
   "id": "95677984",
   "metadata": {},
   "outputs": [],
   "source": [
    "grid_params = {\n",
    "    'adaboostclassifier__estimator': [decision_tree],\n",
    "    'simpleimputer__strategy': ['mean', 'median'],\n",
    "    'standardscaler': [StandardScaler(), MinMaxScaler(), None],\n",
    "    'adaboostclassifier__algorithm': ['SAMME', 'SAMME.R'],\n",
    "    'adaboostclassifier__learning_rate': [.01, .25, .5, .75, 1],\n",
    "    'adaboostclassifier__n_estimators': [100, 200, 300, 400, 500],\n",
    "    'adaboostclassifier__estimator__ccp_alpha': [.001, .01, .1, .25],\n",
    "    'adaboostclassifier__estimator__criterion': ['gini', 'entropy', 'log_loss'],\n",
    "    'adaboostclassifier__estimator__max_depth': [1, 2, 3, 4],\n",
    "    'adaboostclassifier__estimator__max_features': [None, 'auto', 'sqrt', 'log2'], \n",
    "    'adaboostclassifier__estimator__min_impurity_decrease': [.0001, .001, .01, .1],\n",
    "    'adaboostclassifier__estimator__min_samples_leaf': [1, 2, 3, 4, 5],\n",
    "    'adaboostclassifier__estimator__min_samples_split': [2, 3, 4, 5],\n",
    "    'adaboostclassifier__estimator__splitter': ['best', 'random']\n",
    "}"
   ]
  },
  {
   "cell_type": "code",
   "execution_count": null,
   "id": "aa92adba",
   "metadata": {},
   "outputs": [],
   "source": [
    "adaboost_decision_tree_cleveland_rand_cv = RandomizedSearchCV(pipe_adaboost_decision_tree_cleveland, param_distributions=grid_params, \n",
    "                                               cv=5, n_jobs=-1, n_iter = 60, scoring='f1')\n",
    "adaboost_decision_tree_cleveland_rand_cv.fit(X_cleveland_train, y_cleveland_train)\n",
    "print(adaboost_decision_tree_cleveland_rand_cv.best_params_)\n",
    "print(f'Best Score = {adaboost_decision_tree_cleveland_rand_cv.best_score_}')"
   ]
  },
  {
   "cell_type": "markdown",
   "id": "4093445f",
   "metadata": {},
   "source": [
    "### Cleveland dataset - SVM Estimator"
   ]
  },
  {
   "cell_type": "code",
   "execution_count": null,
   "id": "8d7fc949",
   "metadata": {},
   "outputs": [],
   "source": [
    "svm = SVC(probability=True)\n",
    "\n",
    "pipe_adaboost_svm_cleveland = make_pipeline(\n",
    "    SimpleImputer(), \n",
    "    StandardScaler(),\n",
    "    AdaBoostClassifier()\n",
    ")"
   ]
  },
  {
   "cell_type": "code",
   "execution_count": null,
   "id": "ca954f9d",
   "metadata": {},
   "outputs": [],
   "source": [
    "grid_params = {\n",
    "    'adaboostclassifier__estimator': [svm],\n",
    "    'simpleimputer__strategy': ['mean', 'median'],\n",
    "    'standardscaler': [StandardScaler(), MinMaxScaler(), None],\n",
    "    'adaboostclassifier__algorithm': ['SAMME', 'SAMME.R'],\n",
    "    'adaboostclassifier__learning_rate': [.01, .25, .5, .75, 1],\n",
    "    'adaboostclassifier__n_estimators': [25, 50, 75, 100],\n",
    "    'adaboostclassifier__estimator__C': [0.01, 0.1, 1],\n",
    "    'adaboostclassifier__estimator__decision_function_shape': ['ovo', 'ovr'],\n",
    "    'adaboostclassifier__estimator__gamma': ['scale', 'auto'],\n",
    "    'adaboostclassifier__estimator__kernel': ['linear'],\n",
    "    'adaboostclassifier__estimator__shrinking': [True, False]\n",
    "}"
   ]
  },
  {
   "cell_type": "code",
   "execution_count": null,
   "id": "0452c3aa",
   "metadata": {},
   "outputs": [],
   "source": [
    "adaboost_svm_cleveland_rand_cv = RandomizedSearchCV(pipe_adaboost_svm_cleveland, param_distributions=grid_params, \n",
    "                                               cv=5, n_jobs=-1, n_iter = 60, scoring='f1')\n",
    "adaboost_svm_cleveland_rand_cv.fit(X_cleveland_train, y_cleveland_train)\n",
    "print(adaboost_svm_cleveland_rand_cv.best_params_)\n",
    "print(f'Best Score = {adaboost_svm_cleveland_rand_cv.best_score_}')"
   ]
  },
  {
   "cell_type": "markdown",
   "id": "e37b551d",
   "metadata": {},
   "source": [
    "### Cleveland dataset - Logistic Regression Estimator"
   ]
  },
  {
   "cell_type": "code",
   "execution_count": null,
   "id": "24ea1439",
   "metadata": {},
   "outputs": [],
   "source": [
    "logistic_regression = LogisticRegression()\n",
    "\n",
    "pipe_adaboost_log_reg_cleveland = make_pipeline(\n",
    "    SimpleImputer(), \n",
    "    StandardScaler(),\n",
    "    AdaBoostClassifier()\n",
    ")"
   ]
  },
  {
   "cell_type": "code",
   "execution_count": null,
   "id": "4ccd4e16",
   "metadata": {},
   "outputs": [],
   "source": [
    "grid_params = {\n",
    "    'adaboostclassifier__estimator': [logistic_regression],\n",
    "    'simpleimputer__strategy': ['mean', 'median'],\n",
    "    'standardscaler': [StandardScaler(), MinMaxScaler(), None],\n",
    "    'adaboostclassifier__algorithm': ['SAMME', 'SAMME.R'],\n",
    "    'adaboostclassifier__learning_rate': [.01, .25, .5, .75, 1],\n",
    "    'adaboostclassifier__n_estimators': [100, 200, 300, 400, 500],\n",
    "    'adaboostclassifier__estimator__C': [0.01, 0.1, 1, 10, 100, 100],\n",
    "    'adaboostclassifier__estimator__fit_intercept': [True, False],\n",
    "    'adaboostclassifier__estimator__l1_ratio': [0, .1, .25, .5, .75, 1],\n",
    "    'adaboostclassifier__estimator__penalty': ['elasticnet', None],\n",
    "    'adaboostclassifier__estimator__solver': ['lbfgs', 'liblinear', 'newton-cg', 'newton-cholesky', 'sag', 'saga']\n",
    "}"
   ]
  },
  {
   "cell_type": "code",
   "execution_count": null,
   "id": "19ddf775",
   "metadata": {},
   "outputs": [],
   "source": [
    "adaboost_log_reg_cleveland_rand_cv = RandomizedSearchCV(pipe_adaboost_log_reg_cleveland, param_distributions=grid_params, \n",
    "                                               cv=5, n_jobs=-1, n_iter = 60, scoring='f1')\n",
    "adaboost_log_reg_cleveland_rand_cv.fit(X_cleveland_train, y_cleveland_train)\n",
    "print(adaboost_log_reg_cleveland_rand_cv.best_params_)\n",
    "print(f'Best Score = {adaboost_log_reg_cleveland_rand_cv.best_score_}')"
   ]
  },
  {
   "cell_type": "markdown",
   "id": "f08577ba",
   "metadata": {},
   "source": [
    "## Random Forest"
   ]
  },
  {
   "cell_type": "markdown",
   "id": "695f83b7",
   "metadata": {},
   "source": [
    "### All datasets"
   ]
  },
  {
   "cell_type": "code",
   "execution_count": null,
   "id": "4f38b190",
   "metadata": {},
   "outputs": [],
   "source": [
    "pipe_random_forest_all = make_pipeline(\n",
    "    SimpleImputer(), \n",
    "    StandardScaler(),\n",
    "    RandomForestClassifier()\n",
    ")"
   ]
  },
  {
   "cell_type": "code",
   "execution_count": null,
   "id": "aa259570",
   "metadata": {},
   "outputs": [],
   "source": [
    "grid_params = {\n",
    "    'simpleimputer__strategy': ['mean', 'median'],\n",
    "    'standardscaler': [StandardScaler(), MinMaxScaler(), None],\n",
    "    'randomforestclassifier__bootstrap': [True, False],\n",
    "    'randomforestclassifier__ccp_alpha': [.0001, .001, .01, .1],\n",
    "    'randomforestclassifier__criterion': [\"gini\", \"entropy\", \"log_loss\"],\n",
    "    'randomforestclassifier__max_depth': [3, 5, 10, 20, None],\n",
    "    'randomforestclassifier__max_features': [\"sqrt\", \"log2\", None],\n",
    "    'randomforestclassifier__max_leaf_nodes': [10, 20, 50, 100, 200, None],\n",
    "    'randomforestclassifier__min_impurity_decrease': [0, .0001, .001, .01, .1],\n",
    "    'randomforestclassifier__min_samples_leaf': [1, 2, 3, 4, 5],\n",
    "    'randomforestclassifier__n_estimators': [100, 200, 300, 400, 500],\n",
    "    'randomforestclassifier__n_jobs': [-1]\n",
    "}"
   ]
  },
  {
   "cell_type": "code",
   "execution_count": null,
   "id": "c25e8574",
   "metadata": {},
   "outputs": [],
   "source": [
    "random_forest_all_grid_cv = RandomizedSearchCV(pipe_random_forest_all, param_distributions=grid_params, \n",
    "                                               cv=5, n_jobs=-1, n_iter = 180, scoring='f1')\n",
    "random_forest_all_grid_cv.fit(X_all_train, y_all_train)\n",
    "print(random_forest_all_grid_cv.best_params_)\n",
    "print(f'Best Score = {random_forest_all_grid_cv.best_score_}')"
   ]
  },
  {
   "cell_type": "markdown",
   "id": "af64c6c6",
   "metadata": {},
   "source": [
    "### Cleveland"
   ]
  },
  {
   "cell_type": "code",
   "execution_count": null,
   "id": "5a0c1464",
   "metadata": {},
   "outputs": [],
   "source": [
    "pipe_random_forest_cleveland = make_pipeline(\n",
    "    SimpleImputer(), \n",
    "    StandardScaler(),\n",
    "    RandomForestClassifier()\n",
    ")"
   ]
  },
  {
   "cell_type": "code",
   "execution_count": null,
   "id": "0dc47d0e",
   "metadata": {},
   "outputs": [],
   "source": [
    "grid_params = {\n",
    "    'simpleimputer__strategy': ['mean', 'median'],\n",
    "    'standardscaler': [StandardScaler(), MinMaxScaler(), None],\n",
    "    'randomforestclassifier__bootstrap': [True, False],\n",
    "    'randomforestclassifier__ccp_alpha': [.0001, .001, .01, .1],\n",
    "    'randomforestclassifier__criterion': [\"gini\", \"entropy\", \"log_loss\"],\n",
    "    'randomforestclassifier__max_depth': [3, 5, 10, 20, None],\n",
    "    'randomforestclassifier__max_features': [\"sqrt\", \"log2\", None],\n",
    "    'randomforestclassifier__max_leaf_nodes': [10, 20, 50, 100, 200, None],\n",
    "    'randomforestclassifier__min_impurity_decrease': [0, .0001, .001, .01, .1],\n",
    "    'randomforestclassifier__min_samples_leaf': [1, 2, 3, 4, 5],\n",
    "    'randomforestclassifier__n_estimators': [100, 200, 300, 400, 500],\n",
    "    'randomforestclassifier__n_jobs': [-1]\n",
    "}"
   ]
  },
  {
   "cell_type": "code",
   "execution_count": null,
   "id": "600b3eec",
   "metadata": {},
   "outputs": [],
   "source": [
    "random_forest_cleveland_rand_cv = RandomizedSearchCV(pipe_random_forest_cleveland, param_distributions=grid_params, \n",
    "                                               cv=5, n_jobs=-1, n_iter = 180, scoring='f1')\n",
    "random_forest_cleveland_rand_cv.fit(X_cleveland_train, y_cleveland_train)\n",
    "print(random_forest_cleveland_rand_cv.best_params_)\n",
    "print(f'Best Score = {random_forest_cleveland_rand_cv.best_score_}')"
   ]
  },
  {
   "cell_type": "code",
   "execution_count": null,
   "id": "66aeeda5",
   "metadata": {},
   "outputs": [],
   "source": [
    "warnings.resetwarnings()"
   ]
  },
  {
   "cell_type": "markdown",
   "id": "8e32821c",
   "metadata": {},
   "source": [
    "## Results"
   ]
  },
  {
   "cell_type": "markdown",
   "id": "257c18ae",
   "metadata": {},
   "source": [
    "The additional features in the Cleveland only models did not improve performance, so I decided to only choose the best All Datasets model to use going forward. Using the F1 score as the evaluation metric, the best performing model was the AdaBoost model using a Decision Tree estimator. This was slightly better than the best Random Forest model, and it will be the model of choice moving forward."
   ]
  }
 ],
 "metadata": {
  "kernelspec": {
   "display_name": "Python 3 (ipykernel)",
   "language": "python",
   "name": "python3"
  },
  "language_info": {
   "codemirror_mode": {
    "name": "ipython",
    "version": 3
   },
   "file_extension": ".py",
   "mimetype": "text/x-python",
   "name": "python",
   "nbconvert_exporter": "python",
   "pygments_lexer": "ipython3",
   "version": "3.10.9"
  }
 },
 "nbformat": 4,
 "nbformat_minor": 5
}
